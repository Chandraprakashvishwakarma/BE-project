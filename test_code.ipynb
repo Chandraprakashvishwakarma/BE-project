{
 "cells": [
  {
   "cell_type": "code",
   "execution_count": 16,
   "metadata": {},
   "outputs": [],
   "source": [
    "import numpy as np\n",
    "import pandas as pd\n",
    "import matplotlib.pyplot as plt\n",
    "import seaborn as sns\n",
    "%matplotlib inline\n",
    "from sklearn.linear_model import LinearRegression\n",
    "from sklearn.metrics import mean_squared_error\n",
    "\n",
    "# Read the house data into a data frame\n",
    "data = pd.read_csv('data.csv')\n",
    "            "
   ]
  },
  {
   "cell_type": "code",
   "execution_count": 17,
   "metadata": {},
   "outputs": [],
   "source": [
    "x= data['Serial_No'].values\n",
    "x1= data['timestamp'].values\n",
    "y= data['Level_sensor'].values\n",
    "y1= data['sensor_01'].values\n",
    "y5=data['sensor_05'].values"
   ]
  },
  {
   "cell_type": "code",
   "execution_count": 18,
   "metadata": {},
   "outputs": [
    {
     "data": {
      "text/plain": [
       "<matplotlib.collections.PathCollection at 0x208ea90b6a0>"
      ]
     },
     "execution_count": 18,
     "metadata": {},
     "output_type": "execute_result"
    },
    {
     "data": {
      "image/png": "[encoded data removed]",
      "text/plain": [
       "<Figure size 432x288 with 1 Axes>"
      ]
     },
     "metadata": {},
     "output_type": "display_data"
    }
   ],
   "source": [
    "ax = plt.gca()\n",
    "\n",
    "ax.scatter(x,y, color=\"b\", s=5, marker=\"s\", label='Level')\n",
    "\n",
    "ax.scatter(x,y1, color=\"y\",s=5, marker=\"*\", label='Sensor 1')\n",
    "ax.scatter(x,y5, color=\"r\",s=5,marker=\"o\", label='Sensor 5')\n"
   ]
  },
  {
   "cell_type": "code",
   "execution_count": 27,
   "metadata": {},
   "outputs": [],
   "source": [
    "m=len(x)\n",
    "x=x.reshape((m,1))\n"
   ]
  },
  {
   "cell_type": "code",
   "execution_count": 28,
   "metadata": {},
   "outputs": [],
   "source": [
    "reg=LinearRegression()\n",
    "reg1=LinearRegression()\n",
    "reg2=LinearRegression()\n",
    "\n",
    "reg=reg.fit(x, y1)\n",
    "reg1=reg1.fit(x, y)\n",
    "reg2=reg2.fit(x, y5)\n",
    "\n",
    "y1_pred=reg.predict(x)\n",
    "y_pred=reg1.predict(x)\n",
    "y5_pred=reg2.predict(x)"
   ]
  },
  {
   "cell_type": "code",
   "execution_count": 34,
   "metadata": {},
   "outputs": [
    {
     "name": "stdout",
     "output_type": "stream",
     "text": [
      "0.13877886582569232\n"
     ]
    }
   ],
   "source": [
    "mse=mean_squared_error(y1,y1_pred)\n",
    "rmse=np.sqrt(mse)\n",
    "r2_score=reg.score(x,y1)\n",
    "print(r2_score)"
   ]
  },
  {
   "cell_type": "code",
   "execution_count": 33,
   "metadata": {},
   "outputs": [
    {
     "data": {
      "image/png": "[encoded data removed]",
      "text/plain": [
       "<Figure size 432x288 with 1 Axes>"
      ]
     },
     "metadata": {},
     "output_type": "display_data"
    }
   ],
   "source": [
    "\n",
    "ax = plt.gca()\n",
    "\n",
    "ax.scatter(x,y, color=\"b\", s=8, marker=\"s\", label='Level')\n",
    "ax.scatter(x,y1, color=\"y\",s=8,marker=\"*\", label='Sensor 1')\n",
    "ax.scatter(x,y5, color=\"r\",s=8,marker=\"o\", label='Sensor 5')\n",
    " \n",
    "plt.plot(x1, y1_pred, color ='k') \n",
    "plt.plot(x1, y_pred, color ='r') \n",
    "plt.plot(x1, y5_pred, color ='b')\n",
    "plt.legend()\n",
    "plt.show()"
   ]
  },
  {
   "cell_type": "code",
   "execution_count": 31,
   "metadata": {},
   "outputs": [
    {
     "name": "stdout",
     "output_type": "stream",
     "text": [
      "48.09501139850745\n",
      "[0.00462639]\n"
     ]
    }
   ],
   "source": [
    "print(reg.intercept_)\n",
    "print(reg.coef_)"
   ]
  },
  {
   "cell_type": "code",
   "execution_count": 32,
   "metadata": {},
   "outputs": [
    {
     "name": "stdout",
     "output_type": "stream",
     "text": [
      "75.86870203283583\n",
      "[-0.01027322]\n"
     ]
    }
   ],
   "source": [
    "print(reg2.intercept_)\n",
    "print(reg2.coef_)"
   ]
  },
  {
   "cell_type": "code",
   "execution_count": null,
   "metadata": {},
   "outputs": [],
   "source": []
  }
 ],
 "metadata": {
  "kernelspec": {
   "display_name": "Python 3",
   "language": "python",
   "name": "python3"
  },
  "language_info": {
   "codemirror_mode": {
    "name": "ipython",
    "version": 3
   },
   "file_extension": ".py",
   "mimetype": "text/x-python",
   "name": "python",
   "nbconvert_exporter": "python",
   "pygments_lexer": "ipython3",
   "version": "3.6.5"
  }
 },
 "nbformat": 4,
 "nbformat_minor": 2
}
